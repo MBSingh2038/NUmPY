{
  "nbformat": 4,
  "nbformat_minor": 0,
  "metadata": {
    "colab": {
      "name": "Numpy_mini.ipynb",
      "provenance": [],
      "collapsed_sections": []
    },
    "kernelspec": {
      "name": "python3",
      "display_name": "Python 3"
    },
    "language_info": {
      "name": "python"
    }
  },
  "cells": [
    {
      "cell_type": "code",
      "execution_count": 23,
      "metadata": {
        "id": "uJgeEIijN7lS"
      },
      "outputs": [],
      "source": [
        "data_file='/content/drive/MyDrive/Colab Notebooks/Data Sets/makeSenseOfCensus.csv'"
      ]
    },
    {
      "cell_type": "code",
      "source": [
        "import numpy as np\n",
        "\n",
        "data = np.genfromtxt(data_file, delimiter=\",\", skip_header=1)\n",
        "print(\"\\n Data: \\n\\n\", data)\n",
        "\n",
        "print(\"\\n Type of Data: \\n\\n\",type(data))\n",
        "\n",
        "#Solution of Step 2 (Adding new record)\n",
        "new_record=[[50, 9, 4, 1, 0, 0, 40, 0]]\n",
        "#Adding new_record to the previous record\n",
        "#print (np.concatenate((data,new_record)))\n",
        "new_data=np.append(data, new_record, axis=0)\n"
      ],
      "metadata": {
        "colab": {
          "base_uri": "https://localhost:8080/"
        },
        "id": "8GDcBzNEZiOx",
        "outputId": "e4b89a05-d13b-4d47-a152-8ca087ab4206"
      },
      "execution_count": 58,
      "outputs": [
        {
          "output_type": "stream",
          "name": "stdout",
          "text": [
            "\n",
            " Data: \n",
            "\n",
            " [[39. 13.  4. ...  0. 40.  0.]\n",
            " [50. 13.  4. ...  0. 13.  0.]\n",
            " [38.  9.  4. ...  0. 40.  0.]\n",
            " ...\n",
            " [48. 13.  4. ...  0. 58.  1.]\n",
            " [40. 10.  4. ...  0. 40.  0.]\n",
            " [39. 13.  4. ...  0. 50.  1.]]\n",
            "\n",
            " Type of Data: \n",
            "\n",
            " <class 'numpy.ndarray'>\n"
          ]
        }
      ]
    },
    {
      "cell_type": "code",
      "source": [
        "#Solution of Step 3 (Finding minimum, maximum, mean, and standard deviation of age)\n",
        "#finding the maximum age\n",
        "data_age= new_data[:, 0]\n",
        "max_age = np.max(data_age)\n",
        "print(\"Maximum Age = \", max_age)\n",
        "\n",
        "#Finding minimum age\n",
        "min_age = np.min(data_age)\n",
        "print(\"Minimum Age = \", min_age)\n",
        "\n",
        "#Finding the mean of the age\n",
        "mean_age=np.mean(data_age)\n",
        "print(\"Mean age of the Employees is = \",round(mean_age, 2))\n",
        "\n",
        "#Finding Standard deviation of age\n",
        "age_std = np.std(data_age)\n",
        "print(\"Standard Deviation of the age = \",round(age_std,2))"
      ],
      "metadata": {
        "colab": {
          "base_uri": "https://localhost:8080/"
        },
        "id": "twaVRGLJPQyO",
        "outputId": "56e35617-6a67-426e-b4c4-6134f74a83f4"
      },
      "execution_count": 61,
      "outputs": [
        {
          "output_type": "stream",
          "name": "stdout",
          "text": [
            "Maximum Age =  90.0\n",
            "Minimum Age =  17.0\n",
            "Mean age of the Employees is =  38.06\n",
            "Standard Deviation of the age =  13.34\n"
          ]
        }
      ]
    },
    {
      "cell_type": "code",
      "source": [
        "#Solution of Step 4 (Country's race distribution)\n",
        "data_race=new_data[:, 2]\n",
        "print(data_race)\n",
        "race_0 = data_race[data_race==0]\n",
        "print(race_0)\n",
        "print(\"There are \", len(race_0), \"persons with race 0 i.e. Amer-Indian-Eskimo\")\n",
        "race_1 = data_race[data_race==1]\n",
        "print(race_1)\n",
        "print(\"There are \", len(race_1), \"persons with race 1 i.e. Asian-Pac-Islander\")\n",
        "race_2 = data_race[data_race==2]\n",
        "print(race_2)\n",
        "print(\"There are \", len(race_2), \"persons with race 2 i.e. Black\")\n",
        "race_3 = data_race[data_race==3]\n",
        "print(race_3)\n",
        "print(\"There are \", len(race_3), \"persons with race 3 i.e. other\")\n",
        "race_4 = data_race[data_race==4]\n",
        "print(race_4)\n",
        "print(\"There are \", len(race_4), \"persons with race 4 i.e. White\")"
      ],
      "metadata": {
        "colab": {
          "base_uri": "https://localhost:8080/"
        },
        "id": "33nHbQcTaCr3",
        "outputId": "4a909b55-8167-4cf8-970f-3e875bd909d2"
      },
      "execution_count": 62,
      "outputs": [
        {
          "output_type": "stream",
          "name": "stdout",
          "text": [
            "[4. 4. 4. ... 4. 4. 4.]\n",
            "[0. 0. 0. 0. 0. 0. 0. 0. 0. 0.]\n",
            "There are  10 persons with race 0 i.e. Amer-Indian-Eskimo\n",
            "[1. 1. 1. 1. 1. 1. 1. 1. 1. 1. 1. 1. 1. 1. 1. 1. 1. 1. 1. 1. 1. 1. 1. 1.\n",
            " 1. 1. 1.]\n",
            "There are  27 persons with race 1 i.e. Asian-Pac-Islander\n",
            "[2. 2. 2. 2. 2. 2. 2. 2. 2. 2. 2. 2. 2. 2. 2. 2. 2. 2. 2. 2. 2. 2. 2. 2.\n",
            " 2. 2. 2. 2. 2. 2. 2. 2. 2. 2. 2. 2. 2. 2. 2. 2. 2. 2. 2. 2. 2. 2. 2. 2.\n",
            " 2. 2. 2. 2. 2. 2. 2. 2. 2. 2. 2. 2. 2. 2. 2. 2. 2. 2. 2. 2. 2. 2. 2. 2.\n",
            " 2. 2. 2. 2. 2. 2. 2. 2. 2. 2. 2. 2. 2. 2. 2. 2. 2. 2. 2. 2. 2. 2. 2. 2.\n",
            " 2. 2. 2. 2. 2. 2. 2. 2. 2. 2. 2. 2. 2. 2.]\n",
            "There are  110 persons with race 2 i.e. Black\n",
            "[3. 3. 3. 3. 3. 3.]\n",
            "There are  6 persons with race 3 i.e. other\n",
            "[4. 4. 4. 4. 4. 4. 4. 4. 4. 4. 4. 4. 4. 4. 4. 4. 4. 4. 4. 4. 4. 4. 4. 4.\n",
            " 4. 4. 4. 4. 4. 4. 4. 4. 4. 4. 4. 4. 4. 4. 4. 4. 4. 4. 4. 4. 4. 4. 4. 4.\n",
            " 4. 4. 4. 4. 4. 4. 4. 4. 4. 4. 4. 4. 4. 4. 4. 4. 4. 4. 4. 4. 4. 4. 4. 4.\n",
            " 4. 4. 4. 4. 4. 4. 4. 4. 4. 4. 4. 4. 4. 4. 4. 4. 4. 4. 4. 4. 4. 4. 4. 4.\n",
            " 4. 4. 4. 4. 4. 4. 4. 4. 4. 4. 4. 4. 4. 4. 4. 4. 4. 4. 4. 4. 4. 4. 4. 4.\n",
            " 4. 4. 4. 4. 4. 4. 4. 4. 4. 4. 4. 4. 4. 4. 4. 4. 4. 4. 4. 4. 4. 4. 4. 4.\n",
            " 4. 4. 4. 4. 4. 4. 4. 4. 4. 4. 4. 4. 4. 4. 4. 4. 4. 4. 4. 4. 4. 4. 4. 4.\n",
            " 4. 4. 4. 4. 4. 4. 4. 4. 4. 4. 4. 4. 4. 4. 4. 4. 4. 4. 4. 4. 4. 4. 4. 4.\n",
            " 4. 4. 4. 4. 4. 4. 4. 4. 4. 4. 4. 4. 4. 4. 4. 4. 4. 4. 4. 4. 4. 4. 4. 4.\n",
            " 4. 4. 4. 4. 4. 4. 4. 4. 4. 4. 4. 4. 4. 4. 4. 4. 4. 4. 4. 4. 4. 4. 4. 4.\n",
            " 4. 4. 4. 4. 4. 4. 4. 4. 4. 4. 4. 4. 4. 4. 4. 4. 4. 4. 4. 4. 4. 4. 4. 4.\n",
            " 4. 4. 4. 4. 4. 4. 4. 4. 4. 4. 4. 4. 4. 4. 4. 4. 4. 4. 4. 4. 4. 4. 4. 4.\n",
            " 4. 4. 4. 4. 4. 4. 4. 4. 4. 4. 4. 4. 4. 4. 4. 4. 4. 4. 4. 4. 4. 4. 4. 4.\n",
            " 4. 4. 4. 4. 4. 4. 4. 4. 4. 4. 4. 4. 4. 4. 4. 4. 4. 4. 4. 4. 4. 4. 4. 4.\n",
            " 4. 4. 4. 4. 4. 4. 4. 4. 4. 4. 4. 4. 4. 4. 4. 4. 4. 4. 4. 4. 4. 4. 4. 4.\n",
            " 4. 4. 4. 4. 4. 4. 4. 4. 4. 4. 4. 4. 4. 4. 4. 4. 4. 4. 4. 4. 4. 4. 4. 4.\n",
            " 4. 4. 4. 4. 4. 4. 4. 4. 4. 4. 4. 4. 4. 4. 4. 4. 4. 4. 4. 4. 4. 4. 4. 4.\n",
            " 4. 4. 4. 4. 4. 4. 4. 4. 4. 4. 4. 4. 4. 4. 4. 4. 4. 4. 4. 4. 4. 4. 4. 4.\n",
            " 4. 4. 4. 4. 4. 4. 4. 4. 4. 4. 4. 4. 4. 4. 4. 4. 4. 4. 4. 4. 4. 4. 4. 4.\n",
            " 4. 4. 4. 4. 4. 4. 4. 4. 4. 4. 4. 4. 4. 4. 4. 4. 4. 4. 4. 4. 4. 4. 4. 4.\n",
            " 4. 4. 4. 4. 4. 4. 4. 4. 4. 4. 4. 4. 4. 4. 4. 4. 4. 4. 4. 4. 4. 4. 4. 4.\n",
            " 4. 4. 4. 4. 4. 4. 4. 4. 4. 4. 4. 4. 4. 4. 4. 4. 4. 4. 4. 4. 4. 4. 4. 4.\n",
            " 4. 4. 4. 4. 4. 4. 4. 4. 4. 4. 4. 4. 4. 4. 4. 4. 4. 4. 4. 4. 4. 4. 4. 4.\n",
            " 4. 4. 4. 4. 4. 4. 4. 4. 4. 4. 4. 4. 4. 4. 4. 4. 4. 4. 4. 4. 4. 4. 4. 4.\n",
            " 4. 4. 4. 4. 4. 4. 4. 4. 4. 4. 4. 4. 4. 4. 4. 4. 4. 4. 4. 4. 4. 4. 4. 4.\n",
            " 4. 4. 4. 4. 4. 4. 4. 4. 4. 4. 4. 4. 4. 4. 4. 4. 4. 4. 4. 4. 4. 4. 4. 4.\n",
            " 4. 4. 4. 4. 4. 4. 4. 4. 4. 4. 4. 4. 4. 4. 4. 4. 4. 4. 4. 4. 4. 4. 4. 4.\n",
            " 4. 4. 4. 4. 4. 4. 4. 4. 4. 4. 4. 4. 4. 4. 4. 4. 4. 4. 4. 4. 4. 4. 4. 4.\n",
            " 4. 4. 4. 4. 4. 4. 4. 4. 4. 4. 4. 4. 4. 4. 4. 4. 4. 4. 4. 4. 4. 4. 4. 4.\n",
            " 4. 4. 4. 4. 4. 4. 4. 4. 4. 4. 4. 4. 4. 4. 4. 4. 4. 4. 4. 4. 4. 4. 4. 4.\n",
            " 4. 4. 4. 4. 4. 4. 4. 4. 4. 4. 4. 4. 4. 4. 4. 4. 4. 4. 4. 4. 4. 4. 4. 4.\n",
            " 4. 4. 4. 4. 4. 4. 4. 4. 4. 4. 4. 4. 4. 4. 4. 4. 4. 4. 4. 4. 4. 4. 4. 4.\n",
            " 4. 4. 4. 4. 4. 4. 4. 4. 4. 4. 4. 4. 4. 4. 4. 4. 4. 4. 4. 4. 4. 4. 4. 4.\n",
            " 4. 4. 4. 4. 4. 4. 4. 4. 4. 4. 4. 4. 4. 4. 4. 4. 4. 4. 4. 4. 4. 4. 4. 4.\n",
            " 4. 4. 4. 4. 4. 4. 4. 4. 4. 4. 4. 4. 4. 4. 4. 4. 4. 4. 4. 4. 4. 4. 4. 4.\n",
            " 4. 4. 4. 4. 4. 4. 4. 4.]\n",
            "There are  848 persons with race 4 i.e. White\n"
          ]
        }
      ]
    },
    {
      "cell_type": "code",
      "source": [
        "len_0 = len(race_0)\n",
        "print(len_0)\n",
        "len_1 = len(race_1)\n",
        "print(len_1)\n",
        "len_2 = len(race_2)\n",
        "print(len_2)\n",
        "len_3 = len(race_3)\n",
        "print(len_3)\n",
        "len_4 = len(race_4)\n",
        "print(len_4)"
      ],
      "metadata": {
        "id": "1TSTdFytPMeu",
        "colab": {
          "base_uri": "https://localhost:8080/"
        },
        "outputId": "22d95549-36b0-4e13-e644-3487785f9bd4"
      },
      "execution_count": 25,
      "outputs": [
        {
          "output_type": "stream",
          "name": "stdout",
          "text": [
            "10\n",
            "27\n",
            "110\n",
            "6\n",
            "848\n"
          ]
        }
      ]
    },
    {
      "cell_type": "code",
      "source": [
        "min_citizen = min(len_0,len_1,len_2,len_3,len_4)\n",
        "if min_citizen == len_0 :\n",
        "  print('Race_0 has the minimum citizen of',len_0)\n",
        "elif min_citizen == len_1 :\n",
        "  print('Race_1 has the minimum citizen of',len_1)\n",
        "elif min_citizen == len_2 :\n",
        "  print('Race_2 has the minimum citizen of',len_2)\n",
        "elif min_citizen == len_3 :\n",
        "  print('Race_3 has the minimum citizen of',len_3)\n",
        "else:\n",
        "  print('Race_4 has the minimum citizen of',len_4)"
      ],
      "metadata": {
        "colab": {
          "base_uri": "https://localhost:8080/"
        },
        "id": "gUwYAgsA-9r0",
        "outputId": "96423f33-e4cb-482c-d402-6efa052f5b7a"
      },
      "execution_count": 26,
      "outputs": [
        {
          "output_type": "stream",
          "name": "stdout",
          "text": [
            "Race_3 has the min_citizen of 6\n"
          ]
        }
      ]
    },
    {
      "cell_type": "code",
      "source": [
        "min_citizen = min(len_0,len_1,len_2,len_3,len_4)\n",
        "if min_citizen == len_0 :\n",
        "  minority_race = 0\n",
        "  print('Minority_race',minority_race)\n",
        "elif min_citizen == len_1 :\n",
        "  minority_race = 1\n",
        "  print('Minority_race',minority_race)\n",
        "elif min_citizen == len_2 :\n",
        "  minority_race = 2\n",
        "  print('Minority_race',minority_race)\n",
        "elif min_citizen == len_3 :\n",
        "  minority_race = 3\n",
        "  print('Minority_race',minority_race)\n",
        "else :\n",
        "  minority_race = 4\n",
        "  print('Minority_race',minority_race)"
      ],
      "metadata": {
        "colab": {
          "base_uri": "https://localhost:8080/"
        },
        "id": "mWHuAmsr-8YM",
        "outputId": "4e814d37-772d-4e30-a67e-29fb7a76df3c"
      },
      "execution_count": 27,
      "outputs": [
        {
          "output_type": "stream",
          "name": "stdout",
          "text": [
            "Minority_race 3\n"
          ]
        }
      ]
    },
    {
      "cell_type": "code",
      "source": [
        "print(minority_race)"
      ],
      "metadata": {
        "colab": {
          "base_uri": "https://localhost:8080/"
        },
        "id": "svU3xMX4-8pn",
        "outputId": "42101bca-e1a2-4d57-8594-a28be55cf8bd"
      },
      "execution_count": 28,
      "outputs": [
        {
          "output_type": "stream",
          "name": "stdout",
          "text": [
            "3\n"
          ]
        }
      ]
    },
    {
      "cell_type": "code",
      "source": [
        "#Solution 5 (Finding the subset array senior_citizens)\n",
        "senior_citizens = data[data[:, 0]>60]\n",
        "print(senior_citizens)"
      ],
      "metadata": {
        "colab": {
          "base_uri": "https://localhost:8080/"
        },
        "id": "k4yV_rtb-8sh",
        "outputId": "de2d1de6-d264-42bd-f924-3f73a3c10652"
      },
      "execution_count": 32,
      "outputs": [
        {
          "output_type": "stream",
          "name": "stdout",
          "text": [
            "[[7.9000e+01 1.0000e+01 4.0000e+00 1.0000e+00 0.0000e+00 0.0000e+00\n",
            "  2.0000e+01 0.0000e+00]\n",
            " [6.7000e+01 6.0000e+00 4.0000e+00 1.0000e+00 0.0000e+00 0.0000e+00\n",
            "  2.0000e+00 0.0000e+00]\n",
            " [7.6000e+01 1.4000e+01 4.0000e+00 1.0000e+00 0.0000e+00 0.0000e+00\n",
            "  4.0000e+01 1.0000e+00]\n",
            " [6.1000e+01 9.0000e+00 4.0000e+00 1.0000e+00 0.0000e+00 0.0000e+00\n",
            "  4.0000e+01 0.0000e+00]\n",
            " [7.0000e+01 1.0000e+01 4.0000e+00 1.0000e+00 0.0000e+00 0.0000e+00\n",
            "  4.0000e+01 0.0000e+00]\n",
            " [6.4000e+01 7.0000e+00 4.0000e+00 1.0000e+00 0.0000e+00 2.1790e+03\n",
            "  4.0000e+01 0.0000e+00]\n",
            " [7.1000e+01 1.0000e+01 2.0000e+00 1.0000e+00 0.0000e+00 1.8160e+03\n",
            "  2.0000e+00 0.0000e+00]\n",
            " [6.8000e+01 2.0000e+00 4.0000e+00 0.0000e+00 0.0000e+00 0.0000e+00\n",
            "  2.0000e+01 0.0000e+00]\n",
            " [6.6000e+01 1.1000e+01 4.0000e+00 0.0000e+00 0.0000e+00 0.0000e+00\n",
            "  2.0000e+01 0.0000e+00]\n",
            " [6.4000e+01 2.0000e+00 4.0000e+00 1.0000e+00 0.0000e+00 0.0000e+00\n",
            "  4.0000e+01 0.0000e+00]\n",
            " [9.0000e+01 9.0000e+00 2.0000e+00 1.0000e+00 0.0000e+00 2.2060e+03\n",
            "  4.0000e+01 0.0000e+00]\n",
            " [6.6000e+01 9.0000e+00 4.0000e+00 1.0000e+00 1.4090e+03 0.0000e+00\n",
            "  5.0000e+01 0.0000e+00]\n",
            " [7.5000e+01 1.1000e+01 4.0000e+00 0.0000e+00 0.0000e+00 0.0000e+00\n",
            "  2.0000e+01 0.0000e+00]\n",
            " [6.5000e+01 9.0000e+00 4.0000e+00 0.0000e+00 0.0000e+00 0.0000e+00\n",
            "  4.0000e+01 0.0000e+00]\n",
            " [6.4000e+01 9.0000e+00 4.0000e+00 1.0000e+00 0.0000e+00 0.0000e+00\n",
            "  4.0000e+01 1.0000e+00]\n",
            " [6.1000e+01 9.0000e+00 4.0000e+00 1.0000e+00 0.0000e+00 0.0000e+00\n",
            "  4.0000e+01 1.0000e+00]\n",
            " [6.5000e+01 9.0000e+00 4.0000e+00 1.0000e+00 0.0000e+00 0.0000e+00\n",
            "  1.6000e+01 0.0000e+00]\n",
            " [7.7000e+01 1.0000e+01 4.0000e+00 1.0000e+00 0.0000e+00 0.0000e+00\n",
            "  4.0000e+01 0.0000e+00]\n",
            " [6.2000e+01 9.0000e+00 4.0000e+00 0.0000e+00 0.0000e+00 0.0000e+00\n",
            "  2.4000e+01 0.0000e+00]\n",
            " [7.6000e+01 1.4000e+01 4.0000e+00 1.0000e+00 0.0000e+00 0.0000e+00\n",
            "  1.0000e+01 0.0000e+00]\n",
            " [6.3000e+01 9.0000e+00 4.0000e+00 1.0000e+00 0.0000e+00 0.0000e+00\n",
            "  4.5000e+01 0.0000e+00]\n",
            " [6.6000e+01 9.0000e+00 4.0000e+00 1.0000e+00 2.0500e+03 0.0000e+00\n",
            "  5.5000e+01 0.0000e+00]\n",
            " [6.7000e+01 7.0000e+00 4.0000e+00 1.0000e+00 0.0000e+00 0.0000e+00\n",
            "  8.0000e+00 0.0000e+00]\n",
            " [6.5000e+01 7.0000e+00 3.0000e+00 1.0000e+00 0.0000e+00 0.0000e+00\n",
            "  4.0000e+01 0.0000e+00]\n",
            " [6.2000e+01 1.4000e+01 4.0000e+00 1.0000e+00 0.0000e+00 0.0000e+00\n",
            "  4.0000e+01 1.0000e+00]\n",
            " [6.3000e+01 9.0000e+00 4.0000e+00 1.0000e+00 0.0000e+00 0.0000e+00\n",
            "  4.0000e+01 1.0000e+00]\n",
            " [8.0000e+01 9.0000e+00 4.0000e+00 1.0000e+00 0.0000e+00 0.0000e+00\n",
            "  2.4000e+01 0.0000e+00]\n",
            " [6.7000e+01 1.1000e+01 4.0000e+00 0.0000e+00 0.0000e+00 0.0000e+00\n",
            "  2.4000e+01 0.0000e+00]\n",
            " [6.3000e+01 2.0000e+00 4.0000e+00 1.0000e+00 0.0000e+00 0.0000e+00\n",
            "  3.5000e+01 0.0000e+00]\n",
            " [7.2000e+01 9.0000e+00 4.0000e+00 1.0000e+00 0.0000e+00 0.0000e+00\n",
            "  2.0000e+01 0.0000e+00]\n",
            " [6.2000e+01 9.0000e+00 4.0000e+00 1.0000e+00 0.0000e+00 0.0000e+00\n",
            "  4.0000e+01 0.0000e+00]\n",
            " [7.4000e+01 1.0000e+01 4.0000e+00 0.0000e+00 0.0000e+00 0.0000e+00\n",
            "  9.0000e+00 0.0000e+00]\n",
            " [6.7000e+01 1.5000e+01 4.0000e+00 1.0000e+00 2.0051e+04 0.0000e+00\n",
            "  4.8000e+01 1.0000e+00]\n",
            " [7.2000e+01 7.0000e+00 4.0000e+00 0.0000e+00 0.0000e+00 0.0000e+00\n",
            "  4.0000e+01 0.0000e+00]\n",
            " [6.9000e+01 7.0000e+00 4.0000e+00 0.0000e+00 0.0000e+00 0.0000e+00\n",
            "  4.0000e+01 0.0000e+00]\n",
            " [6.5000e+01 1.0000e+01 4.0000e+00 1.0000e+00 0.0000e+00 0.0000e+00\n",
            "  3.0000e+01 1.0000e+00]\n",
            " [6.5000e+01 5.0000e+00 2.0000e+00 0.0000e+00 0.0000e+00 0.0000e+00\n",
            "  2.4000e+01 0.0000e+00]\n",
            " [7.1000e+01 9.0000e+00 4.0000e+00 1.0000e+00 0.0000e+00 0.0000e+00\n",
            "  1.5000e+01 0.0000e+00]\n",
            " [7.0000e+01 5.0000e+00 4.0000e+00 0.0000e+00 1.1110e+03 0.0000e+00\n",
            "  1.5000e+01 0.0000e+00]\n",
            " [6.6000e+01 4.0000e+00 4.0000e+00 1.0000e+00 0.0000e+00 0.0000e+00\n",
            "  4.0000e+00 0.0000e+00]\n",
            " [6.5000e+01 7.0000e+00 4.0000e+00 1.0000e+00 9.3860e+03 0.0000e+00\n",
            "  5.9000e+01 1.0000e+00]\n",
            " [6.1000e+01 9.0000e+00 4.0000e+00 1.0000e+00 0.0000e+00 2.3520e+03\n",
            "  5.0000e+01 0.0000e+00]\n",
            " [6.1000e+01 9.0000e+00 4.0000e+00 1.0000e+00 0.0000e+00 0.0000e+00\n",
            "  4.0000e+01 0.0000e+00]\n",
            " [6.8000e+01 7.0000e+00 4.0000e+00 1.0000e+00 0.0000e+00 0.0000e+00\n",
            "  2.0000e+01 0.0000e+00]\n",
            " [6.4000e+01 1.3000e+01 4.0000e+00 1.0000e+00 0.0000e+00 0.0000e+00\n",
            "  4.0000e+01 1.0000e+00]\n",
            " [6.4000e+01 9.0000e+00 4.0000e+00 1.0000e+00 0.0000e+00 0.0000e+00\n",
            "  4.5000e+01 0.0000e+00]\n",
            " [6.2000e+01 9.0000e+00 4.0000e+00 0.0000e+00 0.0000e+00 0.0000e+00\n",
            "  4.0000e+01 0.0000e+00]\n",
            " [7.3000e+01 9.0000e+00 4.0000e+00 1.0000e+00 0.0000e+00 0.0000e+00\n",
            "  4.0000e+01 0.0000e+00]\n",
            " [7.2000e+01 7.0000e+00 4.0000e+00 0.0000e+00 0.0000e+00 0.0000e+00\n",
            "  2.4000e+01 0.0000e+00]\n",
            " [6.3000e+01 9.0000e+00 4.0000e+00 1.0000e+00 0.0000e+00 0.0000e+00\n",
            "  6.0000e+00 0.0000e+00]\n",
            " [6.2000e+01 1.3000e+01 4.0000e+00 0.0000e+00 0.0000e+00 0.0000e+00\n",
            "  4.8000e+01 0.0000e+00]\n",
            " [6.1000e+01 1.4000e+01 4.0000e+00 0.0000e+00 0.0000e+00 0.0000e+00\n",
            "  4.0000e+01 1.0000e+00]\n",
            " [7.1000e+01 1.4000e+01 4.0000e+00 1.0000e+00 1.0605e+04 0.0000e+00\n",
            "  4.0000e+01 1.0000e+00]\n",
            " [6.3000e+01 1.0000e+01 4.0000e+00 1.0000e+00 0.0000e+00 0.0000e+00\n",
            "  1.5000e+01 0.0000e+00]\n",
            " [6.3000e+01 4.0000e+00 4.0000e+00 1.0000e+00 0.0000e+00 0.0000e+00\n",
            "  5.5000e+01 0.0000e+00]\n",
            " [6.7000e+01 9.0000e+00 1.0000e+00 1.0000e+00 0.0000e+00 0.0000e+00\n",
            "  4.0000e+01 1.0000e+00]\n",
            " [8.1000e+01 9.0000e+00 4.0000e+00 1.0000e+00 0.0000e+00 0.0000e+00\n",
            "  3.0000e+01 0.0000e+00]\n",
            " [6.4000e+01 9.0000e+00 4.0000e+00 1.0000e+00 0.0000e+00 0.0000e+00\n",
            "  5.0000e+00 0.0000e+00]\n",
            " [6.7000e+01 1.3000e+01 4.0000e+00 1.0000e+00 0.0000e+00 2.3920e+03\n",
            "  4.0000e+01 1.0000e+00]\n",
            " [7.8000e+01 9.0000e+00 2.0000e+00 0.0000e+00 2.9640e+03 0.0000e+00\n",
            "  4.0000e+01 0.0000e+00]\n",
            " [6.3000e+01 1.1000e+01 4.0000e+00 0.0000e+00 0.0000e+00 0.0000e+00\n",
            "  2.0000e+01 0.0000e+00]]\n"
          ]
        }
      ]
    },
    {
      "cell_type": "code",
      "source": [
        "senior_citizens[:,0]"
      ],
      "metadata": {
        "colab": {
          "base_uri": "https://localhost:8080/"
        },
        "id": "k71QebKcFi_k",
        "outputId": "ac71edb0-3d3e-4fcf-84f4-705864c86f4c"
      },
      "execution_count": 35,
      "outputs": [
        {
          "output_type": "execute_result",
          "data": {
            "text/plain": [
              "array([79., 67., 76., 61., 70., 64., 71., 68., 66., 64., 90., 66., 75.,\n",
              "       65., 64., 61., 65., 77., 62., 76., 63., 66., 67., 65., 62., 63.,\n",
              "       80., 67., 63., 72., 62., 74., 67., 72., 69., 65., 65., 71., 70.,\n",
              "       66., 65., 61., 61., 68., 64., 64., 62., 73., 72., 63., 62., 61.,\n",
              "       71., 63., 63., 67., 81., 64., 67., 78., 63.])"
            ]
          },
          "metadata": {},
          "execution_count": 35
        }
      ]
    },
    {
      "cell_type": "code",
      "source": [
        "#Solution 5 (Finding sum of working hours of senior citizens)\n",
        "working_hours_sum = sum(senior_citizens[:,6])\n",
        "print(\"The sum of working hours of senior citizens are = \",working_hours_sum, \"hours\")"
      ],
      "metadata": {
        "colab": {
          "base_uri": "https://localhost:8080/"
        },
        "id": "Lo4-pEx7HB3w",
        "outputId": "cdca74a2-dd40-45d9-a4d0-dc9edbbac67c"
      },
      "execution_count": 67,
      "outputs": [
        {
          "output_type": "stream",
          "name": "stdout",
          "text": [
            "The sum of working hours of senior citizens are =  1917.0 hours\n"
          ]
        }
      ]
    },
    {
      "cell_type": "code",
      "source": [
        "senior_citizens[:, 6]"
      ],
      "metadata": {
        "colab": {
          "base_uri": "https://localhost:8080/"
        },
        "id": "rW6_sWeHIF_O",
        "outputId": "119b719c-cdcf-4719-afd9-f418d39c4a4b"
      },
      "execution_count": 37,
      "outputs": [
        {
          "output_type": "execute_result",
          "data": {
            "text/plain": [
              "array([20.,  2., 40., 40., 40., 40.,  2., 20., 20., 40., 40., 50., 20.,\n",
              "       40., 40., 40., 16., 40., 24., 10., 45., 55.,  8., 40., 40., 40.,\n",
              "       24., 24., 35., 20., 40.,  9., 48., 40., 40., 30., 24., 15., 15.,\n",
              "        4., 59., 50., 40., 20., 40., 45., 40., 40., 24.,  6., 48., 40.,\n",
              "       40., 15., 55., 40., 30.,  5., 40., 40., 20.])"
            ]
          },
          "metadata": {},
          "execution_count": 37
        }
      ]
    },
    {
      "cell_type": "code",
      "source": [
        "#Solution 5 (Finding the lenght of senior ciztizens)\n",
        "senior_citizens_len=len(senior_citizens)\n",
        "print(\"There are \", senior_citizens_len, \"senior citizens\")\n"
      ],
      "metadata": {
        "colab": {
          "base_uri": "https://localhost:8080/"
        },
        "id": "k3Rvi17lKYFM",
        "outputId": "754c64ab-259f-49be-f777-d5fd2b60908d"
      },
      "execution_count": 57,
      "outputs": [
        {
          "output_type": "stream",
          "name": "stdout",
          "text": [
            "There are  61 senior citizens\n"
          ]
        }
      ]
    },
    {
      "cell_type": "code",
      "source": [
        "#Solution 5 (Average workign hours of senior citizens)\n",
        "avg_working_hours = working_hours_sum/senior_citizens_len\n",
        "print(\"The average working hour of senior citizens are: \", (round(avg_working_hours,2)))"
      ],
      "metadata": {
        "colab": {
          "base_uri": "https://localhost:8080/"
        },
        "id": "3YZesQFFKtn3",
        "outputId": "3462cd07-905b-4d81-a3d7-5e07815437a7"
      },
      "execution_count": 44,
      "outputs": [
        {
          "output_type": "stream",
          "name": "stdout",
          "text": [
            "The average working hour of senior citizens are:  31.43\n"
          ]
        }
      ]
    },
    {
      "cell_type": "code",
      "source": [
        "#Solution 5 (Finding the work voilation of govenerment policy)\n",
        "if avg_working_hours>25:\n",
        "  print(\"Goverment Policy has been voileted\")\n",
        "else:\n",
        "  print(\"Government plicy is followed\")"
      ],
      "metadata": {
        "colab": {
          "base_uri": "https://localhost:8080/"
        },
        "id": "V0oNFyDILkPY",
        "outputId": "2702cdfe-9714-44ea-81f4-5c3e07053526"
      },
      "execution_count": 45,
      "outputs": [
        {
          "output_type": "stream",
          "name": "stdout",
          "text": [
            "Goverment Policy has been voileted\n"
          ]
        }
      ]
    },
    {
      "cell_type": "code",
      "source": [
        "#Solution of 6 (Creating two subset array: high and low)\n",
        "high = data[data[:,1]>10]\n",
        "print(high)\n",
        "print('*'*50)\n",
        "low = data[data[:, 1]<=10]\n",
        "print(low)"
      ],
      "metadata": {
        "colab": {
          "base_uri": "https://localhost:8080/"
        },
        "id": "8M3bBxllL_Sx",
        "outputId": "3cc089e6-b756-4fde-9892-28a2714fe0f4"
      },
      "execution_count": 50,
      "outputs": [
        {
          "output_type": "stream",
          "name": "stdout",
          "text": [
            "[[39. 13.  4. ...  0. 40.  0.]\n",
            " [50. 13.  4. ...  0. 13.  0.]\n",
            " [28. 13.  2. ...  0. 40.  0.]\n",
            " ...\n",
            " [45. 14.  4. ...  0. 45.  0.]\n",
            " [48. 13.  4. ...  0. 58.  1.]\n",
            " [39. 13.  4. ...  0. 50.  1.]]\n",
            "**************************************************\n",
            "[[38.  9.  4. ...  0. 40.  0.]\n",
            " [53.  7.  2. ...  0. 40.  0.]\n",
            " [49.  5.  2. ...  0. 16.  0.]\n",
            " ...\n",
            " [35.  9.  4. ...  0. 45.  0.]\n",
            " [56.  9.  4. ...  0. 55.  1.]\n",
            " [40. 10.  4. ...  0. 40.  0.]]\n"
          ]
        }
      ]
    },
    {
      "cell_type": "code",
      "source": [
        "from numpy.ma.extras import average\n",
        "avg_pay_high = average(high[:,7])\n",
        "print(\"Average Pay of higher educated peoples = \", round(avg_pay_high,2))\n",
        "\n",
        "avg_pay_low = average(low[:,7])\n",
        "print(\"Average Pay of lower educated peoples = \", round(avg_pay_low,2))"
      ],
      "metadata": {
        "colab": {
          "base_uri": "https://localhost:8080/"
        },
        "id": "EE1OL6YzNATc",
        "outputId": "836b1bfe-7bee-4a58-c500-8019b0369874"
      },
      "execution_count": 64,
      "outputs": [
        {
          "output_type": "stream",
          "name": "stdout",
          "text": [
            "Average Pay of higher educated peoples =  0.43\n",
            "Average Pay of lower educated peoples =  0.14\n"
          ]
        }
      ]
    }
  ]
}